{
  "cells": [
    {
      "cell_type": "code",
      "execution_count": 148,
      "metadata": {
        "colab": {
          "base_uri": "https://localhost:8080/"
        },
        "id": "NfwVc7l_Rp8V",
        "outputId": "1f2a80b6-5e0e-45b0-c716-4c1eb1322786"
      },
      "outputs": [
        {
          "name": "stdout",
          "output_type": "stream",
          "text": [
            "Once deleted, variables cannot be recovered. Proceed (y/[n])? y\n"
          ]
        }
      ],
      "source": [
        "%reset"
      ]
    },
    {
      "cell_type": "code",
      "execution_count": 149,
      "metadata": {
        "id": "Sr8dJ4tnFWoK"
      },
      "outputs": [],
      "source": [
        "#Change the values to run the experiment\n",
        "\n",
        "experiment = 1 #1-> BANKEX , 2 ->Activities\n",
        "f = 20 #Size of future window in days. Change f for the number of steps-ahead. 1 or 20.\n",
        "thepath = 'sample_data' #Change the path to where you want to save the models"
      ]
    },
    {
      "cell_type": "markdown",
      "metadata": {
        "id": "3zOtJLFRkR2S"
      },
      "source": [
        "Suggested citation: Velarde, G., Brañez, P., Bueno, A., Heredia, R., & Lopez, M. (Accepted). An Open-Source and Reproducible Implementation of GRU and LSTM Networks for Time Series Forecasting. ITISE CONFERENCE: 8th International Conference on Time Series and Forecasting, June 27th-30th, 2022.\n",
        "\n",
        "MIT License\n",
        "\n",
        "Copyright (c) [2021] [Gissel Velarde, Pedro Brañez, Alejandro Bueno, Rodrigo Heredia, & Mateo Lopez]\n",
        "\n",
        "Permission is hereby granted, free of charge, to any person obtaining a copy\n",
        "of this software and associated documentation files (the \"Software\"), to deal\n",
        "in the Software without restriction, including without limitation the rights\n",
        "to use, copy, modify, merge, publish, distribute, sublicense, and/or sell\n",
        "copies of the Software, and to permit persons to whom the Software is\n",
        "furnished to do so, subject to the following conditions:\n",
        "\n",
        "The above copyright notice and this permission notice shall be included in all\n",
        "copies or substantial portions of the Software.\n",
        "\n",
        "THE SOFTWARE IS PROVIDED \"AS IS\", WITHOUT WARRANTY OF ANY KIND, EXPRESS OR\n",
        "IMPLIED, INCLUDING BUT NOT LIMITED TO THE WARRANTIES OF MERCHANTABILITY,\n",
        "FITNESS FOR A PARTICULAR PURPOSE AND NONINFRINGEMENT. IN NO EVENT SHALL THE\n",
        "AUTHORS OR COPYRIGHT HOLDERS BE LIABLE FOR ANY CLAIM, DAMAGES OR OTHER\n",
        "LIABILITY, WHETHER IN AN ACTION OF CONTRACT, TORT OR OTHERWISE, ARISING FROM,\n",
        "OUT OF OR IN CONNECTION WITH THE SOFTWARE OR THE USE OR OTHER DEALINGS IN THE\n",
        "SOFTWARE."
      ]
    },
    {
      "cell_type": "code",
      "execution_count": 150,
      "metadata": {
        "id": "B3lbm0kTBMn9"
      },
      "outputs": [],
      "source": [
        "from numpy.random import seed\n",
        "seed(1)\n",
        "import tensorflow\n",
        "tensorflow.random.set_seed(2)\n",
        "import math\n",
        "import numpy as np\n",
        "import pandas as pd\n",
        "from sklearn.preprocessing import MinMaxScaler\n",
        "from keras.models import Sequential\n",
        "from keras.layers import Dense, LSTM, Dropout, GRU\n",
        "from numpy import genfromtxt\n",
        "from pandas_datareader import data as pdr\n",
        "import matplotlib.cm as cm\n",
        "import matplotlib.pyplot as plt\n",
        "from sklearn.metrics import mean_squared_error\n",
        "from scipy.stats import mannwhitneyu"
      ]
    },
    {
      "cell_type": "markdown",
      "metadata": {
        "id": "3ZAzbOWLKuFk"
      },
      "source": [
        "Definitions"
      ]
    },
    {
      "cell_type": "code",
      "execution_count": 151,
      "metadata": {
        "id": "liQKD6LwhuFy"
      },
      "outputs": [],
      "source": [
        "def GRU_Model(output_window):\n",
        "  model = Sequential()\n",
        "  model.add(GRU(128, return_sequences=False, input_shape=(X.shape[1],1)))\n",
        "  model.add(Dense(output_window))\n",
        "  model.compile(optimizer='adam', loss='mean_squared_error')\n",
        "  model.summary()\n",
        "  return model"
      ]
    },
    {
      "cell_type": "code",
      "execution_count": 152,
      "metadata": {
        "id": "lRT1KY3H8AiY"
      },
      "outputs": [],
      "source": [
        "def LSTM_Model(output_window):\n",
        "  model = Sequential()\n",
        "  model.add(LSTM(128, return_sequences=False, input_shape=(X.shape[1],1)))\n",
        "  model.add(Dense(output_window))\n",
        "  model.compile(optimizer='adam', loss='mean_squared_error')\n",
        "  model.summary()\n",
        "  return model"
      ]
    },
    {
      "cell_type": "code",
      "execution_count": 153,
      "metadata": {
        "id": "fAxvIxzqyHiw"
      },
      "outputs": [],
      "source": [
        "#Based on: Computer Science: Stock Price Prediction Using Python & Machine Learning. https://www.youtube.com/watch?v=QIUxPv5PJOY (2019), accessed 25 January,\n",
        "2022\n",
        "def data_preparation(w, scaled_data, N, f):\n",
        "  X=[]\n",
        "  window = w + f\n",
        "  Q = len(scaled_data)\n",
        "  for i in range(Q-window+1):\n",
        "    X.append(scaled_data[i:i+window, 0])\n",
        "\n",
        "  X = np.array(X)\n",
        "  X = np.reshape(X, (X.shape[0],X.shape[1],1))\n",
        "\n",
        "  trainX, trainY = X[0:N,0:w], X[0:N,w:w+f]\n",
        "  testX, testY = X[N:Q-w,0:w], X[N:Q-w,w:w+f]\n",
        "  X = trainX \n",
        "  return trainX, trainY, testX, testY, X"
      ]
    },
    {
      "cell_type": "code",
      "execution_count": 154,
      "metadata": {
        "id": "wbYjRiw3oWWL"
      },
      "outputs": [],
      "source": [
        "#Repeats the last known value f times\n",
        "def baselinef(U,f):\n",
        "  last = U.shape[0]\n",
        "  yhat = np.zeros((last, f))\n",
        "  for j in range(0,last):\n",
        "    yhat[j,0:f] = np.repeat(U[j,U.shape[1]-1], f)\n",
        "  return yhat"
      ]
    },
    {
      "cell_type": "code",
      "execution_count": 155,
      "metadata": {
        "id": "6tRsk9sWAbbV"
      },
      "outputs": [],
      "source": [
        "#Directional accuracy\n",
        "#From https://gist.github.com/bshishov/5dc237f59f019b26145648e2124ca1c9\n",
        "def mda(actual: np.ndarray, predicted: np.ndarray):\n",
        "  return np.mean((np.sign(actual[1:] - actual[:-1]) == np.sign(predicted[1:] - predicted[:-1])).astype(int))"
      ]
    },
    {
      "cell_type": "code",
      "source": [
        "#Normalize data between 0 and 1\n",
        "def scaleit(DATAX):\n",
        "  mima = np.zeros((DATAX.shape[0], 2)) #To save min and max values\n",
        "  for i in range(DATAX.shape[0]):\n",
        "    mima[i,0],mima[i,1] = DATAX[i,:].min(), DATAX[i,:].max()\n",
        "    DATAX[i,:] = (DATAX[i,:]-DATAX[i,:].min())/(DATAX[i,:].max()-DATAX[i,:].min())\n",
        "  return DATAX, mima"
      ],
      "metadata": {
        "id": "EJypwuvq4UG8"
      },
      "execution_count": 156,
      "outputs": []
    },
    {
      "cell_type": "code",
      "execution_count": 157,
      "metadata": {
        "id": "6HfqXQz2Gr8e"
      },
      "outputs": [],
      "source": [
        "#Rescale to original values\n",
        "def rescaleit(y,mima,i):\n",
        "  yt = (y*(mima[i,1]-mima[i,0]))+mima[i,0]\n",
        "  return yt"
      ]
    },
    {
      "cell_type": "code",
      "execution_count": 158,
      "metadata": {
        "id": "t_xkvHWSHvw7"
      },
      "outputs": [],
      "source": [
        "#Based on https://stackoverflow.com/questions/12236566/setting-different-color-for-each-series-in-scatter-plot-on-matplotlib\n",
        "#This code is to plot series of different colors\n",
        "def plot_series(X):\n",
        "  x = np.arange(10)\n",
        "  ys = [i+x+(i*x)**2 for i in range(10)]\n",
        "  colors = cm.rainbow(np.linspace(0, 1, len(ys)))\n",
        "  for i in range(10):\n",
        "    plt.plot(X[i], label='%s ' % (i+1), color=colors[i,:])\n",
        "    plt.legend(bbox_to_anchor=(1.04,0.5), loc=\"center left\", borderaxespad=0)\n",
        "  plt.xlabel(\"Days\")\n",
        "  plt.ylabel(\"Closing Price\")"
      ]
    },
    {
      "cell_type": "code",
      "source": [
        "#Statistical tests\n",
        "def statisticaltests(s):\n",
        "  print('LSTM and Baseline (RMSE)')\n",
        "  U1, p = mannwhitneyu(s[:,0],s[:,2], alternative = 'two-sided')\n",
        "  print('U='+ str(U1) + '. p = ' + str(p))\n",
        "  print('GRU and Baseline (RMSE)')\n",
        "  U1, p = mannwhitneyu(s[:,1],s[:,2], alternative = 'two-sided')\n",
        "  print('U='+ str(U1) + '. p = ' + str(p)) \n",
        "  print('LSTM and GRU (RMSE)')\n",
        "  U1, p = mannwhitneyu(s[:,0],s[:,1], alternative = 'two-sided')\n",
        "  print('U='+ str(U1) + '. p = ' + str(p))\n",
        "  print('LSTM and Baseline (DA)')\n",
        "  U1, p = mannwhitneyu(s[:,0+3],s[:,2+3], alternative = 'two-sided')\n",
        "  print('U='+ str(U1) + '. p = ' + str(p))\n",
        "  print('GRU and Baseline (DA)')\n",
        "  U1, p = mannwhitneyu(s[:,1+3],s[:,2+3], alternative = 'two-sided')\n",
        "  print('U='+ str(U1) + '. p = ' + str(p))\n",
        "  print('LSTM and GRU (DA)')\n",
        "  U1, p = mannwhitneyu(s[:,0+3],s[:,1+3], alternative = 'two-sided')\n",
        "  print('U='+ str(U1) + '. p = ' + str(p))"
      ],
      "metadata": {
        "id": "UbD2iCUg73x0"
      },
      "execution_count": 159,
      "outputs": []
    },
    {
      "cell_type": "code",
      "execution_count": 160,
      "metadata": {
        "id": "FvLPXzNj-kQ-"
      },
      "outputs": [],
      "source": [
        "if experiment ==1:\n",
        "  #Retrieve BANKEX dataset \n",
        "  DATAX = genfromtxt('BANKEX.csv', delimiter=',')\n",
        "else:\n",
        "  #Retrieve Activities dataset \n",
        "   DATAX = genfromtxt('activities.csv', delimiter=',')"
      ]
    },
    {
      "cell_type": "code",
      "execution_count": 161,
      "metadata": {
        "id": "pjc1DJGrHyzQ",
        "colab": {
          "base_uri": "https://localhost:8080/",
          "height": 279
        },
        "outputId": "1db2e183-53d0-424f-a6c0-f5a0e269a9c2"
      },
      "outputs": [
        {
          "output_type": "display_data",
          "data": {
            "text/plain": [
              "<Figure size 432x288 with 1 Axes>"
            ],
            "image/png": "[encoded data removed]"
          },
          "metadata": {
            "needs_background": "light"
          }
        }
      ],
      "source": [
        "plot_series(DATAX)"
      ]
    },
    {
      "cell_type": "code",
      "source": [
        "#Normalize data between 0 and 1\n",
        "DATAX, mima = scaleit(DATAX)\n",
        "plot_series(DATAX)"
      ],
      "metadata": {
        "colab": {
          "base_uri": "https://localhost:8080/",
          "height": 279
        },
        "id": "kEwwotjs5QBx",
        "outputId": "fb70e936-0e3c-42cc-cd0a-93b900be3658"
      },
      "execution_count": 162,
      "outputs": [
        {
          "output_type": "display_data",
          "data": {
            "text/plain": [
              "<Figure size 432x288 with 1 Axes>"
            ],
            "image/png": "[encoded data removed]"
          },
          "metadata": {
            "needs_background": "light"
          }
        }
      ]
    },
    {
      "cell_type": "code",
      "execution_count": 163,
      "metadata": {
        "id": "SXG4j7O9_4cl",
        "colab": {
          "base_uri": "https://localhost:8080/"
        },
        "outputId": "6ff56632-195b-450e-a542-8b906ceb6821"
      },
      "outputs": [
        {
          "output_type": "execute_result",
          "data": {
            "text/plain": [
              "(3032, 1)"
            ]
          },
          "metadata": {},
          "execution_count": 163
        }
      ],
      "source": [
        "selected_series = 0 #Select one signal arbitrarily to train the dataset\n",
        "scaled_data = DATAX[selected_series, :] \n",
        "scaled_data = np.reshape(scaled_data, (len(scaled_data),1)) \n",
        "scaled_data.shape"
      ]
    },
    {
      "cell_type": "code",
      "execution_count": 164,
      "metadata": {
        "id": "JJVWeJfxkJNw"
      },
      "outputs": [],
      "source": [
        "#w < N < Q\n",
        "window = 60 #Size of the window in days\n",
        "test_samples = 251 #Number of test samples\n",
        "N = len(scaled_data) - test_samples - window"
      ]
    },
    {
      "cell_type": "code",
      "execution_count": 165,
      "metadata": {
        "id": "u_5j3BuIi1e8"
      },
      "outputs": [],
      "source": [
        "trainX, trainY, testX, testY, X = data_preparation(window, scaled_data, N,f)"
      ]
    },
    {
      "cell_type": "code",
      "execution_count": 166,
      "metadata": {
        "colab": {
          "base_uri": "https://localhost:8080/"
        },
        "id": "3rs0JtdQi69v",
        "outputId": "e9451b6e-3ce9-4191-9014-c8e1e25a1da0"
      },
      "outputs": [
        {
          "output_type": "stream",
          "name": "stdout",
          "text": [
            "Model: \"sequential_6\"\n",
            "_________________________________________________________________\n",
            " Layer (type)                Output Shape              Param #   \n",
            "=================================================================\n",
            " lstm_3 (LSTM)               (None, 128)               66560     \n",
            "                                                                 \n",
            " dense_6 (Dense)             (None, 20)                2580      \n",
            "                                                                 \n",
            "=================================================================\n",
            "Total params: 69,140\n",
            "Trainable params: 69,140\n",
            "Non-trainable params: 0\n",
            "_________________________________________________________________\n",
            "Model: \"sequential_7\"\n",
            "_________________________________________________________________\n",
            " Layer (type)                Output Shape              Param #   \n",
            "=================================================================\n",
            " gru_3 (GRU)                 (None, 128)               50304     \n",
            "                                                                 \n",
            " dense_7 (Dense)             (None, 20)                2580      \n",
            "                                                                 \n",
            "=================================================================\n",
            "Total params: 52,884\n",
            "Trainable params: 52,884\n",
            "Non-trainable params: 0\n",
            "_________________________________________________________________\n"
          ]
        }
      ],
      "source": [
        "lstm_model = LSTM_Model(f)\n",
        "gru_model = GRU_Model(f)\n",
        "epochs = 200 "
      ]
    },
    {
      "cell_type": "code",
      "execution_count": 167,
      "metadata": {
        "id": "2yO862nLAPZn",
        "colab": {
          "base_uri": "https://localhost:8080/"
        },
        "outputId": "8810092a-68c1-42dc-d94f-8a47882eca64"
      },
      "outputs": [
        {
          "output_type": "stream",
          "name": "stdout",
          "text": [
            "Epoch 1/200\n",
            "86/86 [==============================] - 8s 67ms/step - loss: 0.0173\n",
            "Epoch 2/200\n",
            "86/86 [==============================] - 6s 66ms/step - loss: 0.0021\n",
            "Epoch 3/200\n",
            "86/86 [==============================] - 6s 68ms/step - loss: 0.0016\n",
            "Epoch 4/200\n",
            "86/86 [==============================] - 6s 65ms/step - loss: 0.0015\n",
            "Epoch 5/200\n",
            "86/86 [==============================] - 6s 65ms/step - loss: 0.0017\n",
            "Epoch 6/200\n",
            "86/86 [==============================] - 6s 67ms/step - loss: 0.0015\n",
            "Epoch 7/200\n",
            "86/86 [==============================] - 6s 66ms/step - loss: 0.0014\n",
            "Epoch 8/200\n",
            "86/86 [==============================] - 6s 66ms/step - loss: 0.0014\n",
            "Epoch 9/200\n",
            "86/86 [==============================] - 6s 65ms/step - loss: 0.0014\n",
            "Epoch 10/200\n",
            "86/86 [==============================] - 6s 65ms/step - loss: 0.0013\n",
            "Epoch 11/200\n",
            "86/86 [==============================] - 5s 64ms/step - loss: 0.0013\n",
            "Epoch 12/200\n",
            "86/86 [==============================] - 6s 64ms/step - loss: 0.0013\n",
            "Epoch 13/200\n",
            "86/86 [==============================] - 6s 65ms/step - loss: 0.0016\n",
            "Epoch 14/200\n",
            "86/86 [==============================] - 6s 65ms/step - loss: 0.0013\n",
            "Epoch 15/200\n",
            "86/86 [==============================] - 6s 67ms/step - loss: 0.0014\n",
            "Epoch 16/200\n",
            "86/86 [==============================] - 6s 65ms/step - loss: 0.0013\n",
            "Epoch 17/200\n",
            "86/86 [==============================] - 6s 67ms/step - loss: 0.0023\n",
            "Epoch 18/200\n",
            "86/86 [==============================] - 6s 65ms/step - loss: 0.0012\n",
            "Epoch 19/200\n",
            "86/86 [==============================] - 6s 66ms/step - loss: 0.0012\n",
            "Epoch 20/200\n",
            "86/86 [==============================] - 6s 64ms/step - loss: 0.0012\n",
            "Epoch 21/200\n",
            "86/86 [==============================] - 6s 64ms/step - loss: 0.0012\n",
            "Epoch 22/200\n",
            "86/86 [==============================] - 6s 65ms/step - loss: 0.0013\n",
            "Epoch 23/200\n",
            "86/86 [==============================] - 6s 65ms/step - loss: 0.0012\n",
            "Epoch 24/200\n",
            "86/86 [==============================] - 6s 65ms/step - loss: 0.0012\n",
            "Epoch 25/200\n",
            "86/86 [==============================] - 6s 64ms/step - loss: 0.0014\n",
            "Epoch 26/200\n",
            "86/86 [==============================] - 6s 64ms/step - loss: 0.0012\n",
            "Epoch 27/200\n",
            "86/86 [==============================] - 5s 64ms/step - loss: 0.0012\n",
            "Epoch 28/200\n",
            "86/86 [==============================] - 6s 64ms/step - loss: 0.0012\n",
            "Epoch 29/200\n",
            "86/86 [==============================] - 6s 65ms/step - loss: 0.0012\n",
            "Epoch 30/200\n",
            "86/86 [==============================] - 6s 66ms/step - loss: 0.0012\n",
            "Epoch 31/200\n",
            "86/86 [==============================] - 6s 66ms/step - loss: 0.0011\n",
            "Epoch 32/200\n",
            "86/86 [==============================] - 6s 65ms/step - loss: 0.0013\n",
            "Epoch 33/200\n",
            "86/86 [==============================] - 6s 66ms/step - loss: 0.0011\n",
            "Epoch 34/200\n",
            "86/86 [==============================] - 6s 65ms/step - loss: 0.0011\n",
            "Epoch 35/200\n",
            "86/86 [==============================] - 6s 66ms/step - loss: 0.0013\n",
            "Epoch 36/200\n",
            "86/86 [==============================] - 6s 67ms/step - loss: 0.0012\n",
            "Epoch 37/200\n",
            "86/86 [==============================] - 6s 66ms/step - loss: 0.0012\n",
            "Epoch 38/200\n",
            "86/86 [==============================] - 6s 65ms/step - loss: 0.0011\n",
            "Epoch 39/200\n",
            "86/86 [==============================] - 6s 66ms/step - loss: 0.0012\n",
            "Epoch 40/200\n",
            "86/86 [==============================] - 6s 66ms/step - loss: 0.0012\n",
            "Epoch 41/200\n",
            "86/86 [==============================] - 6s 66ms/step - loss: 0.0012\n",
            "Epoch 42/200\n",
            "86/86 [==============================] - 6s 66ms/step - loss: 0.0011\n",
            "Epoch 43/200\n",
            "86/86 [==============================] - 6s 65ms/step - loss: 0.0013\n",
            "Epoch 44/200\n",
            "86/86 [==============================] - 6s 65ms/step - loss: 0.0011\n",
            "Epoch 45/200\n",
            "86/86 [==============================] - 6s 66ms/step - loss: 0.0011\n",
            "Epoch 46/200\n",
            "86/86 [==============================] - 6s 65ms/step - loss: 0.0011\n",
            "Epoch 47/200\n",
            "86/86 [==============================] - 6s 66ms/step - loss: 0.0012\n",
            "Epoch 48/200\n",
            "86/86 [==============================] - 6s 65ms/step - loss: 0.0011\n",
            "Epoch 49/200\n",
            "86/86 [==============================] - 6s 65ms/step - loss: 0.0011\n",
            "Epoch 50/200\n",
            "86/86 [==============================] - 6s 66ms/step - loss: 0.0011\n",
            "Epoch 51/200\n",
            "86/86 [==============================] - 6s 65ms/step - loss: 0.0011\n",
            "Epoch 52/200\n",
            "86/86 [==============================] - 6s 64ms/step - loss: 0.0011\n",
            "Epoch 53/200\n",
            "86/86 [==============================] - 6s 65ms/step - loss: 0.0011\n",
            "Epoch 54/200\n",
            "86/86 [==============================] - 6s 66ms/step - loss: 0.0011\n",
            "Epoch 55/200\n",
            "86/86 [==============================] - 6s 65ms/step - loss: 0.0011\n",
            "Epoch 56/200\n",
            "86/86 [==============================] - 6s 65ms/step - loss: 0.0011\n",
            "Epoch 57/200\n",
            "86/86 [==============================] - 6s 64ms/step - loss: 0.0011\n",
            "Epoch 58/200\n",
            "86/86 [==============================] - 6s 66ms/step - loss: 0.0010\n",
            "Epoch 59/200\n",
            "86/86 [==============================] - 6s 65ms/step - loss: 0.0011\n",
            "Epoch 60/200\n",
            "86/86 [==============================] - 6s 64ms/step - loss: 0.0013\n",
            "Epoch 61/200\n",
            "86/86 [==============================] - 6s 65ms/step - loss: 0.0011\n",
            "Epoch 62/200\n",
            "86/86 [==============================] - 6s 65ms/step - loss: 0.0011\n",
            "Epoch 63/200\n",
            "86/86 [==============================] - 6s 65ms/step - loss: 0.0010\n",
            "Epoch 64/200\n",
            "86/86 [==============================] - 6s 66ms/step - loss: 0.0011\n",
            "Epoch 65/200\n",
            "86/86 [==============================] - 6s 67ms/step - loss: 0.0011\n",
            "Epoch 66/200\n",
            "86/86 [==============================] - 6s 65ms/step - loss: 0.0010\n",
            "Epoch 67/200\n",
            "86/86 [==============================] - 6s 66ms/step - loss: 0.0010\n",
            "Epoch 68/200\n",
            "86/86 [==============================] - 6s 65ms/step - loss: 0.0011\n",
            "Epoch 69/200\n",
            "86/86 [==============================] - 6s 66ms/step - loss: 0.0011\n",
            "Epoch 70/200\n",
            "86/86 [==============================] - 6s 65ms/step - loss: 0.0011\n",
            "Epoch 71/200\n",
            "86/86 [==============================] - 6s 64ms/step - loss: 0.0010\n",
            "Epoch 72/200\n",
            "86/86 [==============================] - 6s 66ms/step - loss: 9.8799e-04\n",
            "Epoch 73/200\n",
            "86/86 [==============================] - 6s 65ms/step - loss: 9.8574e-04\n",
            "Epoch 74/200\n",
            "86/86 [==============================] - 6s 66ms/step - loss: 0.0010\n",
            "Epoch 75/200\n",
            "86/86 [==============================] - 6s 65ms/step - loss: 9.7726e-04\n",
            "Epoch 76/200\n",
            "86/86 [==============================] - 6s 65ms/step - loss: 9.4516e-04\n",
            "Epoch 77/200\n",
            "86/86 [==============================] - 6s 65ms/step - loss: 0.0012\n",
            "Epoch 78/200\n",
            "86/86 [==============================] - 6s 66ms/step - loss: 0.0010\n",
            "Epoch 79/200\n",
            "86/86 [==============================] - 6s 66ms/step - loss: 0.0011\n",
            "Epoch 80/200\n",
            "86/86 [==============================] - 6s 65ms/step - loss: 9.9433e-04\n",
            "Epoch 81/200\n",
            "86/86 [==============================] - 6s 66ms/step - loss: 0.0010\n",
            "Epoch 82/200\n",
            "86/86 [==============================] - 6s 65ms/step - loss: 9.6039e-04\n",
            "Epoch 83/200\n",
            "86/86 [==============================] - 6s 67ms/step - loss: 0.0013\n",
            "Epoch 84/200\n",
            "86/86 [==============================] - 6s 69ms/step - loss: 0.0010\n",
            "Epoch 85/200\n",
            "86/86 [==============================] - 6s 67ms/step - loss: 9.2630e-04\n",
            "Epoch 86/200\n",
            "86/86 [==============================] - 6s 71ms/step - loss: 9.5134e-04\n",
            "Epoch 87/200\n",
            "86/86 [==============================] - 6s 68ms/step - loss: 9.2009e-04\n",
            "Epoch 88/200\n",
            "86/86 [==============================] - 6s 68ms/step - loss: 9.0699e-04\n",
            "Epoch 89/200\n",
            "86/86 [==============================] - 6s 67ms/step - loss: 9.1791e-04\n",
            "Epoch 90/200\n",
            "86/86 [==============================] - 6s 67ms/step - loss: 9.1895e-04\n",
            "Epoch 91/200\n",
            "86/86 [==============================] - 6s 68ms/step - loss: 8.9069e-04\n",
            "Epoch 92/200\n",
            "86/86 [==============================] - 6s 67ms/step - loss: 9.5845e-04\n",
            "Epoch 93/200\n",
            "86/86 [==============================] - 6s 66ms/step - loss: 8.9582e-04\n",
            "Epoch 94/200\n",
            "86/86 [==============================] - 6s 66ms/step - loss: 8.8277e-04\n",
            "Epoch 95/200\n",
            "86/86 [==============================] - 6s 66ms/step - loss: 8.8411e-04\n",
            "Epoch 96/200\n",
            "86/86 [==============================] - 6s 66ms/step - loss: 9.0007e-04\n",
            "Epoch 97/200\n",
            "86/86 [==============================] - 6s 67ms/step - loss: 9.5159e-04\n",
            "Epoch 98/200\n",
            "86/86 [==============================] - 6s 65ms/step - loss: 8.6766e-04\n",
            "Epoch 99/200\n",
            "86/86 [==============================] - 6s 65ms/step - loss: 8.9988e-04\n",
            "Epoch 100/200\n",
            "86/86 [==============================] - 6s 66ms/step - loss: 8.7734e-04\n",
            "Epoch 101/200\n",
            "86/86 [==============================] - 6s 64ms/step - loss: 8.7519e-04\n",
            "Epoch 102/200\n",
            "86/86 [==============================] - 6s 65ms/step - loss: 9.1098e-04\n",
            "Epoch 103/200\n",
            "86/86 [==============================] - 6s 65ms/step - loss: 8.6638e-04\n",
            "Epoch 104/200\n",
            "86/86 [==============================] - 6s 65ms/step - loss: 8.8333e-04\n",
            "Epoch 105/200\n",
            "86/86 [==============================] - 6s 65ms/step - loss: 0.0010\n",
            "Epoch 106/200\n",
            "86/86 [==============================] - 6s 64ms/step - loss: 9.7205e-04\n",
            "Epoch 107/200\n",
            "86/86 [==============================] - 6s 64ms/step - loss: 8.9543e-04\n",
            "Epoch 108/200\n",
            "86/86 [==============================] - 6s 64ms/step - loss: 8.6695e-04\n",
            "Epoch 109/200\n",
            "86/86 [==============================] - 6s 65ms/step - loss: 8.7586e-04\n",
            "Epoch 110/200\n",
            "86/86 [==============================] - 6s 65ms/step - loss: 9.0727e-04\n",
            "Epoch 111/200\n",
            "86/86 [==============================] - 6s 64ms/step - loss: 8.5808e-04\n",
            "Epoch 112/200\n",
            "86/86 [==============================] - 6s 64ms/step - loss: 8.5410e-04\n",
            "Epoch 113/200\n",
            "86/86 [==============================] - 6s 65ms/step - loss: 8.8978e-04\n",
            "Epoch 114/200\n",
            "86/86 [==============================] - 6s 65ms/step - loss: 8.6910e-04\n",
            "Epoch 115/200\n",
            "86/86 [==============================] - 6s 65ms/step - loss: 8.6902e-04\n",
            "Epoch 116/200\n",
            "86/86 [==============================] - 6s 65ms/step - loss: 8.8117e-04\n",
            "Epoch 117/200\n",
            "86/86 [==============================] - 6s 65ms/step - loss: 8.8162e-04\n",
            "Epoch 118/200\n",
            "86/86 [==============================] - 6s 66ms/step - loss: 8.4834e-04\n",
            "Epoch 119/200\n",
            "86/86 [==============================] - 6s 65ms/step - loss: 8.8352e-04\n",
            "Epoch 120/200\n",
            "86/86 [==============================] - 6s 65ms/step - loss: 8.5959e-04\n",
            "Epoch 121/200\n",
            "86/86 [==============================] - 6s 64ms/step - loss: 8.3224e-04\n",
            "Epoch 122/200\n",
            "86/86 [==============================] - 6s 65ms/step - loss: 8.4555e-04\n",
            "Epoch 123/200\n",
            "86/86 [==============================] - 6s 66ms/step - loss: 0.0012\n",
            "Epoch 124/200\n",
            "86/86 [==============================] - 6s 66ms/step - loss: 0.0011\n",
            "Epoch 125/200\n",
            "86/86 [==============================] - 6s 67ms/step - loss: 0.0012\n",
            "Epoch 126/200\n",
            "86/86 [==============================] - 6s 66ms/step - loss: 9.9594e-04\n",
            "Epoch 127/200\n",
            "86/86 [==============================] - 6s 67ms/step - loss: 8.6958e-04\n",
            "Epoch 128/200\n",
            "86/86 [==============================] - 6s 66ms/step - loss: 9.3500e-04\n",
            "Epoch 129/200\n",
            "86/86 [==============================] - 6s 66ms/step - loss: 8.6614e-04\n",
            "Epoch 130/200\n",
            "86/86 [==============================] - 6s 66ms/step - loss: 8.4176e-04\n",
            "Epoch 131/200\n",
            "86/86 [==============================] - 6s 65ms/step - loss: 8.1629e-04\n",
            "Epoch 132/200\n",
            "86/86 [==============================] - 6s 66ms/step - loss: 8.1147e-04\n",
            "Epoch 133/200\n",
            "86/86 [==============================] - 6s 64ms/step - loss: 8.3629e-04\n",
            "Epoch 134/200\n",
            "86/86 [==============================] - 6s 66ms/step - loss: 8.1043e-04\n",
            "Epoch 135/200\n",
            "86/86 [==============================] - 6s 66ms/step - loss: 8.1598e-04\n",
            "Epoch 136/200\n",
            "86/86 [==============================] - 6s 66ms/step - loss: 8.1577e-04\n",
            "Epoch 137/200\n",
            "86/86 [==============================] - 6s 69ms/step - loss: 7.9868e-04\n",
            "Epoch 138/200\n",
            "86/86 [==============================] - 6s 67ms/step - loss: 7.9406e-04\n",
            "Epoch 139/200\n",
            "86/86 [==============================] - 6s 69ms/step - loss: 8.0953e-04\n",
            "Epoch 140/200\n",
            "86/86 [==============================] - 6s 69ms/step - loss: 8.4644e-04\n",
            "Epoch 141/200\n",
            "86/86 [==============================] - 6s 72ms/step - loss: 7.9152e-04\n",
            "Epoch 142/200\n",
            "86/86 [==============================] - 6s 71ms/step - loss: 8.1592e-04\n",
            "Epoch 143/200\n",
            "86/86 [==============================] - 6s 69ms/step - loss: 7.8919e-04\n",
            "Epoch 144/200\n",
            "86/86 [==============================] - 6s 69ms/step - loss: 0.0011\n",
            "Epoch 145/200\n",
            "86/86 [==============================] - 6s 70ms/step - loss: 8.7414e-04\n",
            "Epoch 146/200\n",
            "86/86 [==============================] - 6s 70ms/step - loss: 8.2707e-04\n",
            "Epoch 147/200\n",
            "86/86 [==============================] - 6s 67ms/step - loss: 7.8350e-04\n",
            "Epoch 148/200\n",
            "86/86 [==============================] - 6s 68ms/step - loss: 8.2870e-04\n",
            "Epoch 149/200\n",
            "86/86 [==============================] - 6s 66ms/step - loss: 8.0957e-04\n",
            "Epoch 150/200\n",
            "86/86 [==============================] - 6s 66ms/step - loss: 7.9508e-04\n",
            "Epoch 151/200\n",
            "86/86 [==============================] - 6s 67ms/step - loss: 7.7211e-04\n",
            "Epoch 152/200\n",
            "86/86 [==============================] - 6s 66ms/step - loss: 7.9247e-04\n",
            "Epoch 153/200\n",
            "86/86 [==============================] - 6s 67ms/step - loss: 7.7786e-04\n",
            "Epoch 154/200\n",
            "86/86 [==============================] - 6s 67ms/step - loss: 7.8248e-04\n",
            "Epoch 155/200\n",
            "86/86 [==============================] - 6s 67ms/step - loss: 7.7945e-04\n",
            "Epoch 156/200\n",
            "86/86 [==============================] - 6s 69ms/step - loss: 8.3191e-04\n",
            "Epoch 157/200\n",
            "86/86 [==============================] - 6s 68ms/step - loss: 7.8932e-04\n",
            "Epoch 158/200\n",
            "86/86 [==============================] - 6s 69ms/step - loss: 8.5644e-04\n",
            "Epoch 159/200\n",
            "86/86 [==============================] - 6s 70ms/step - loss: 8.2605e-04\n",
            "Epoch 160/200\n",
            "86/86 [==============================] - 6s 69ms/step - loss: 8.2433e-04\n",
            "Epoch 161/200\n",
            "86/86 [==============================] - 6s 68ms/step - loss: 9.6536e-04\n",
            "Epoch 162/200\n",
            "86/86 [==============================] - 6s 67ms/step - loss: 8.4875e-04\n",
            "Epoch 163/200\n",
            "86/86 [==============================] - 6s 67ms/step - loss: 7.9620e-04\n",
            "Epoch 164/200\n",
            "86/86 [==============================] - 6s 66ms/step - loss: 8.0646e-04\n",
            "Epoch 165/200\n",
            "86/86 [==============================] - 6s 68ms/step - loss: 7.6658e-04\n",
            "Epoch 166/200\n",
            "86/86 [==============================] - 6s 68ms/step - loss: 7.9041e-04\n",
            "Epoch 167/200\n",
            "86/86 [==============================] - 6s 68ms/step - loss: 8.7353e-04\n",
            "Epoch 168/200\n",
            "86/86 [==============================] - 6s 68ms/step - loss: 7.7790e-04\n",
            "Epoch 169/200\n",
            "86/86 [==============================] - 6s 67ms/step - loss: 7.7429e-04\n",
            "Epoch 170/200\n",
            "86/86 [==============================] - 6s 68ms/step - loss: 9.3897e-04\n",
            "Epoch 171/200\n",
            "86/86 [==============================] - 6s 69ms/step - loss: 7.9359e-04\n",
            "Epoch 172/200\n",
            "86/86 [==============================] - 6s 71ms/step - loss: 7.8723e-04\n",
            "Epoch 173/200\n",
            "86/86 [==============================] - 6s 68ms/step - loss: 7.8367e-04\n",
            "Epoch 174/200\n",
            "86/86 [==============================] - 6s 68ms/step - loss: 7.6489e-04\n",
            "Epoch 175/200\n",
            "86/86 [==============================] - 6s 70ms/step - loss: 7.6223e-04\n",
            "Epoch 176/200\n",
            "86/86 [==============================] - 6s 68ms/step - loss: 7.6917e-04\n",
            "Epoch 177/200\n",
            "86/86 [==============================] - 6s 68ms/step - loss: 7.6322e-04\n",
            "Epoch 178/200\n",
            "86/86 [==============================] - 6s 68ms/step - loss: 8.3187e-04\n",
            "Epoch 179/200\n",
            "86/86 [==============================] - 6s 68ms/step - loss: 7.8739e-04\n",
            "Epoch 180/200\n",
            "86/86 [==============================] - 6s 68ms/step - loss: 7.9104e-04\n",
            "Epoch 181/200\n",
            "86/86 [==============================] - 6s 66ms/step - loss: 9.8385e-04\n",
            "Epoch 182/200\n",
            "86/86 [==============================] - 6s 66ms/step - loss: 8.5058e-04\n",
            "Epoch 183/200\n",
            "86/86 [==============================] - 6s 67ms/step - loss: 8.5242e-04\n",
            "Epoch 184/200\n",
            "86/86 [==============================] - 6s 66ms/step - loss: 0.0012\n",
            "Epoch 185/200\n",
            "86/86 [==============================] - 6s 67ms/step - loss: 0.0012\n",
            "Epoch 186/200\n",
            "86/86 [==============================] - 6s 67ms/step - loss: 0.0011\n",
            "Epoch 187/200\n",
            "86/86 [==============================] - 6s 68ms/step - loss: 0.0010\n",
            "Epoch 188/200\n",
            "86/86 [==============================] - 6s 66ms/step - loss: 9.6267e-04\n",
            "Epoch 189/200\n",
            "86/86 [==============================] - 6s 67ms/step - loss: 8.9355e-04\n",
            "Epoch 190/200\n",
            "86/86 [==============================] - 6s 66ms/step - loss: 9.0343e-04\n",
            "Epoch 191/200\n",
            "86/86 [==============================] - 6s 66ms/step - loss: 8.4127e-04\n",
            "Epoch 192/200\n",
            "86/86 [==============================] - 6s 66ms/step - loss: 8.3410e-04\n",
            "Epoch 193/200\n",
            "86/86 [==============================] - 6s 66ms/step - loss: 8.3861e-04\n",
            "Epoch 194/200\n",
            "86/86 [==============================] - 6s 67ms/step - loss: 8.6139e-04\n",
            "Epoch 195/200\n",
            "86/86 [==============================] - 6s 65ms/step - loss: 8.2891e-04\n",
            "Epoch 196/200\n",
            "86/86 [==============================] - 6s 66ms/step - loss: 8.1349e-04\n",
            "Epoch 197/200\n",
            "86/86 [==============================] - 6s 65ms/step - loss: 8.2696e-04\n",
            "Epoch 198/200\n",
            "86/86 [==============================] - 6s 66ms/step - loss: 8.1502e-04\n",
            "Epoch 199/200\n",
            "86/86 [==============================] - 6s 66ms/step - loss: 7.9749e-04\n",
            "Epoch 200/200\n",
            "86/86 [==============================] - 6s 66ms/step - loss: 8.4008e-04\n",
            "Epoch 1/200\n",
            "86/86 [==============================] - 7s 56ms/step - loss: 0.0235\n",
            "Epoch 2/200\n",
            "86/86 [==============================] - 5s 56ms/step - loss: 0.0014\n",
            "Epoch 3/200\n",
            "86/86 [==============================] - 5s 57ms/step - loss: 0.0012\n",
            "Epoch 4/200\n",
            "86/86 [==============================] - 5s 55ms/step - loss: 0.0012\n",
            "Epoch 5/200\n",
            "86/86 [==============================] - 5s 57ms/step - loss: 0.0013\n",
            "Epoch 6/200\n",
            "86/86 [==============================] - 5s 56ms/step - loss: 0.0012\n",
            "Epoch 7/200\n",
            "86/86 [==============================] - 5s 56ms/step - loss: 0.0012\n",
            "Epoch 8/200\n",
            "86/86 [==============================] - 5s 56ms/step - loss: 0.0012\n",
            "Epoch 9/200\n",
            "86/86 [==============================] - 5s 56ms/step - loss: 0.0012\n",
            "Epoch 10/200\n",
            "86/86 [==============================] - 5s 55ms/step - loss: 0.0011\n",
            "Epoch 11/200\n",
            "86/86 [==============================] - 5s 55ms/step - loss: 0.0012\n",
            "Epoch 12/200\n",
            "86/86 [==============================] - 5s 55ms/step - loss: 0.0012\n",
            "Epoch 13/200\n",
            "86/86 [==============================] - 5s 55ms/step - loss: 0.0015\n",
            "Epoch 14/200\n",
            "86/86 [==============================] - 5s 55ms/step - loss: 0.0012\n",
            "Epoch 15/200\n",
            "86/86 [==============================] - 5s 55ms/step - loss: 0.0013\n",
            "Epoch 16/200\n",
            "86/86 [==============================] - 5s 56ms/step - loss: 0.0011\n",
            "Epoch 17/200\n",
            "86/86 [==============================] - 5s 55ms/step - loss: 0.0020\n",
            "Epoch 18/200\n",
            "86/86 [==============================] - 5s 54ms/step - loss: 0.0011\n",
            "Epoch 19/200\n",
            "86/86 [==============================] - 5s 55ms/step - loss: 0.0011\n",
            "Epoch 20/200\n",
            "86/86 [==============================] - 5s 54ms/step - loss: 0.0011\n",
            "Epoch 21/200\n",
            "86/86 [==============================] - 5s 56ms/step - loss: 0.0012\n",
            "Epoch 22/200\n",
            "86/86 [==============================] - 5s 56ms/step - loss: 0.0012\n",
            "Epoch 23/200\n",
            "86/86 [==============================] - 5s 55ms/step - loss: 0.0011\n",
            "Epoch 24/200\n",
            "86/86 [==============================] - 5s 55ms/step - loss: 0.0011\n",
            "Epoch 25/200\n",
            "86/86 [==============================] - 5s 55ms/step - loss: 0.0012\n",
            "Epoch 26/200\n",
            "86/86 [==============================] - 5s 55ms/step - loss: 0.0011\n",
            "Epoch 27/200\n",
            "86/86 [==============================] - 5s 55ms/step - loss: 0.0011\n",
            "Epoch 28/200\n",
            "86/86 [==============================] - 5s 56ms/step - loss: 0.0011\n",
            "Epoch 29/200\n",
            "86/86 [==============================] - 5s 56ms/step - loss: 0.0011\n",
            "Epoch 30/200\n",
            "86/86 [==============================] - 5s 57ms/step - loss: 0.0011\n",
            "Epoch 31/200\n",
            "86/86 [==============================] - 5s 55ms/step - loss: 0.0011\n",
            "Epoch 32/200\n",
            "86/86 [==============================] - 5s 55ms/step - loss: 0.0014\n",
            "Epoch 33/200\n",
            "86/86 [==============================] - 5s 56ms/step - loss: 0.0011\n",
            "Epoch 34/200\n",
            "86/86 [==============================] - 5s 55ms/step - loss: 0.0011\n",
            "Epoch 35/200\n",
            "86/86 [==============================] - 5s 56ms/step - loss: 0.0012\n",
            "Epoch 36/200\n",
            "86/86 [==============================] - 5s 56ms/step - loss: 0.0011\n",
            "Epoch 37/200\n",
            "86/86 [==============================] - 5s 56ms/step - loss: 0.0011\n",
            "Epoch 38/200\n",
            "86/86 [==============================] - 5s 56ms/step - loss: 0.0011\n",
            "Epoch 39/200\n",
            "86/86 [==============================] - 5s 56ms/step - loss: 0.0011\n",
            "Epoch 40/200\n",
            "86/86 [==============================] - 5s 56ms/step - loss: 0.0011\n",
            "Epoch 41/200\n",
            "86/86 [==============================] - 5s 56ms/step - loss: 0.0011\n",
            "Epoch 42/200\n",
            "86/86 [==============================] - 5s 56ms/step - loss: 0.0011\n",
            "Epoch 43/200\n",
            "86/86 [==============================] - 5s 55ms/step - loss: 0.0013\n",
            "Epoch 44/200\n",
            "86/86 [==============================] - 5s 56ms/step - loss: 0.0011\n",
            "Epoch 45/200\n",
            "86/86 [==============================] - 5s 56ms/step - loss: 0.0011\n",
            "Epoch 46/200\n",
            "86/86 [==============================] - 5s 56ms/step - loss: 0.0011\n",
            "Epoch 47/200\n",
            "86/86 [==============================] - 5s 55ms/step - loss: 0.0012\n",
            "Epoch 48/200\n",
            "86/86 [==============================] - 5s 55ms/step - loss: 0.0011\n",
            "Epoch 49/200\n",
            "86/86 [==============================] - 5s 55ms/step - loss: 0.0011\n",
            "Epoch 50/200\n",
            "86/86 [==============================] - 5s 56ms/step - loss: 0.0011\n",
            "Epoch 51/200\n",
            "86/86 [==============================] - 5s 55ms/step - loss: 0.0011\n",
            "Epoch 52/200\n",
            "86/86 [==============================] - 5s 56ms/step - loss: 0.0011\n",
            "Epoch 53/200\n",
            "86/86 [==============================] - 5s 55ms/step - loss: 0.0011\n",
            "Epoch 54/200\n",
            "86/86 [==============================] - 5s 56ms/step - loss: 0.0011\n",
            "Epoch 55/200\n",
            "86/86 [==============================] - 5s 56ms/step - loss: 0.0011\n",
            "Epoch 56/200\n",
            "86/86 [==============================] - 5s 55ms/step - loss: 0.0011\n",
            "Epoch 57/200\n",
            "86/86 [==============================] - 5s 56ms/step - loss: 0.0011\n",
            "Epoch 58/200\n",
            "86/86 [==============================] - 5s 56ms/step - loss: 0.0011\n",
            "Epoch 59/200\n",
            "86/86 [==============================] - 5s 57ms/step - loss: 0.0011\n",
            "Epoch 60/200\n",
            "86/86 [==============================] - 5s 57ms/step - loss: 0.0013\n",
            "Epoch 61/200\n",
            "86/86 [==============================] - 5s 58ms/step - loss: 0.0011\n",
            "Epoch 62/200\n",
            "86/86 [==============================] - 5s 57ms/step - loss: 0.0011\n",
            "Epoch 63/200\n",
            "86/86 [==============================] - 5s 57ms/step - loss: 0.0011\n",
            "Epoch 64/200\n",
            "86/86 [==============================] - 5s 57ms/step - loss: 0.0011\n",
            "Epoch 65/200\n",
            "86/86 [==============================] - 5s 58ms/step - loss: 0.0011\n",
            "Epoch 66/200\n",
            "86/86 [==============================] - 5s 56ms/step - loss: 0.0011\n",
            "Epoch 67/200\n",
            "86/86 [==============================] - 5s 58ms/step - loss: 0.0011\n",
            "Epoch 68/200\n",
            "86/86 [==============================] - 5s 57ms/step - loss: 0.0012\n",
            "Epoch 69/200\n",
            "86/86 [==============================] - 5s 58ms/step - loss: 0.0012\n",
            "Epoch 70/200\n",
            "86/86 [==============================] - 5s 58ms/step - loss: 0.0012\n",
            "Epoch 71/200\n",
            "86/86 [==============================] - 5s 60ms/step - loss: 0.0011\n",
            "Epoch 72/200\n",
            "86/86 [==============================] - 5s 57ms/step - loss: 0.0011\n",
            "Epoch 73/200\n",
            "86/86 [==============================] - 5s 58ms/step - loss: 0.0011\n",
            "Epoch 74/200\n",
            "86/86 [==============================] - 5s 58ms/step - loss: 0.0011\n",
            "Epoch 75/200\n",
            "86/86 [==============================] - 5s 59ms/step - loss: 0.0011\n",
            "Epoch 76/200\n",
            "86/86 [==============================] - 5s 56ms/step - loss: 0.0011\n",
            "Epoch 77/200\n",
            "86/86 [==============================] - 5s 58ms/step - loss: 0.0012\n",
            "Epoch 78/200\n",
            "86/86 [==============================] - 5s 58ms/step - loss: 0.0011\n",
            "Epoch 79/200\n",
            "86/86 [==============================] - 5s 60ms/step - loss: 0.0011\n",
            "Epoch 80/200\n",
            "86/86 [==============================] - 5s 58ms/step - loss: 0.0011\n",
            "Epoch 81/200\n",
            "86/86 [==============================] - 5s 59ms/step - loss: 0.0011\n",
            "Epoch 82/200\n",
            "86/86 [==============================] - 5s 57ms/step - loss: 0.0011\n",
            "Epoch 83/200\n",
            "86/86 [==============================] - 5s 58ms/step - loss: 0.0014\n",
            "Epoch 84/200\n",
            "86/86 [==============================] - 5s 57ms/step - loss: 0.0011\n",
            "Epoch 85/200\n",
            "86/86 [==============================] - 5s 57ms/step - loss: 0.0011\n",
            "Epoch 86/200\n",
            "86/86 [==============================] - 5s 59ms/step - loss: 0.0011\n",
            "Epoch 87/200\n",
            "86/86 [==============================] - 5s 58ms/step - loss: 0.0011\n",
            "Epoch 88/200\n",
            "86/86 [==============================] - 5s 57ms/step - loss: 0.0011\n",
            "Epoch 89/200\n",
            "86/86 [==============================] - 5s 60ms/step - loss: 0.0011\n",
            "Epoch 90/200\n",
            "86/86 [==============================] - 5s 58ms/step - loss: 0.0011\n",
            "Epoch 91/200\n",
            "86/86 [==============================] - 5s 58ms/step - loss: 0.0011\n",
            "Epoch 92/200\n",
            "86/86 [==============================] - 5s 56ms/step - loss: 0.0011\n",
            "Epoch 93/200\n",
            "86/86 [==============================] - 5s 58ms/step - loss: 0.0011\n",
            "Epoch 94/200\n",
            "86/86 [==============================] - 5s 57ms/step - loss: 0.0011\n",
            "Epoch 95/200\n",
            "86/86 [==============================] - 5s 56ms/step - loss: 0.0010\n",
            "Epoch 96/200\n",
            "86/86 [==============================] - 5s 56ms/step - loss: 0.0011\n",
            "Epoch 97/200\n",
            "86/86 [==============================] - 5s 56ms/step - loss: 0.0011\n",
            "Epoch 98/200\n",
            "86/86 [==============================] - 5s 56ms/step - loss: 0.0010\n",
            "Epoch 99/200\n",
            "86/86 [==============================] - 5s 56ms/step - loss: 0.0010\n",
            "Epoch 100/200\n",
            "86/86 [==============================] - 5s 56ms/step - loss: 0.0010\n",
            "Epoch 101/200\n",
            "86/86 [==============================] - 5s 56ms/step - loss: 0.0010\n",
            "Epoch 102/200\n",
            "86/86 [==============================] - 5s 57ms/step - loss: 0.0011\n",
            "Epoch 103/200\n",
            "86/86 [==============================] - 5s 56ms/step - loss: 0.0010\n",
            "Epoch 104/200\n",
            "86/86 [==============================] - 5s 56ms/step - loss: 0.0011\n",
            "Epoch 105/200\n",
            "86/86 [==============================] - 5s 55ms/step - loss: 0.0010\n",
            "Epoch 106/200\n",
            "86/86 [==============================] - 5s 56ms/step - loss: 0.0010\n",
            "Epoch 107/200\n",
            "86/86 [==============================] - 5s 56ms/step - loss: 0.0010\n",
            "Epoch 108/200\n",
            "86/86 [==============================] - 5s 56ms/step - loss: 0.0010\n",
            "Epoch 109/200\n",
            "86/86 [==============================] - 5s 56ms/step - loss: 0.0010\n",
            "Epoch 110/200\n",
            "86/86 [==============================] - 5s 56ms/step - loss: 0.0011\n",
            "Epoch 111/200\n",
            "86/86 [==============================] - 5s 56ms/step - loss: 0.0010\n",
            "Epoch 112/200\n",
            "86/86 [==============================] - 5s 57ms/step - loss: 0.0010\n",
            "Epoch 113/200\n",
            "86/86 [==============================] - 5s 56ms/step - loss: 0.0011\n",
            "Epoch 114/200\n",
            "86/86 [==============================] - 5s 56ms/step - loss: 0.0010\n",
            "Epoch 115/200\n",
            "86/86 [==============================] - 5s 56ms/step - loss: 0.0010\n",
            "Epoch 116/200\n",
            "86/86 [==============================] - 5s 57ms/step - loss: 0.0010\n",
            "Epoch 117/200\n",
            "86/86 [==============================] - 5s 56ms/step - loss: 0.0010\n",
            "Epoch 118/200\n",
            "86/86 [==============================] - 5s 56ms/step - loss: 0.0010\n",
            "Epoch 119/200\n",
            "86/86 [==============================] - 5s 56ms/step - loss: 0.0010\n",
            "Epoch 120/200\n",
            "86/86 [==============================] - 5s 56ms/step - loss: 0.0010\n",
            "Epoch 121/200\n",
            "86/86 [==============================] - 5s 57ms/step - loss: 0.0010\n",
            "Epoch 122/200\n",
            "86/86 [==============================] - 5s 56ms/step - loss: 0.0010\n",
            "Epoch 123/200\n",
            "86/86 [==============================] - 5s 56ms/step - loss: 0.0012\n",
            "Epoch 124/200\n",
            "86/86 [==============================] - 5s 56ms/step - loss: 0.0010\n",
            "Epoch 125/200\n",
            "86/86 [==============================] - 5s 56ms/step - loss: 0.0010\n",
            "Epoch 126/200\n",
            "86/86 [==============================] - 5s 56ms/step - loss: 0.0010\n",
            "Epoch 127/200\n",
            "86/86 [==============================] - 5s 56ms/step - loss: 9.9669e-04\n",
            "Epoch 128/200\n",
            "86/86 [==============================] - 5s 56ms/step - loss: 0.0011\n",
            "Epoch 129/200\n",
            "86/86 [==============================] - 5s 56ms/step - loss: 0.0010\n",
            "Epoch 130/200\n",
            "86/86 [==============================] - 5s 56ms/step - loss: 0.0010\n",
            "Epoch 131/200\n",
            "86/86 [==============================] - 5s 56ms/step - loss: 0.0010\n",
            "Epoch 132/200\n",
            "86/86 [==============================] - 5s 55ms/step - loss: 0.0010\n",
            "Epoch 133/200\n",
            "86/86 [==============================] - 5s 57ms/step - loss: 0.0010\n",
            "Epoch 134/200\n",
            "86/86 [==============================] - 5s 56ms/step - loss: 9.9345e-04\n",
            "Epoch 135/200\n",
            "86/86 [==============================] - 5s 57ms/step - loss: 9.9611e-04\n",
            "Epoch 136/200\n",
            "86/86 [==============================] - 5s 57ms/step - loss: 9.9497e-04\n",
            "Epoch 137/200\n",
            "86/86 [==============================] - 5s 56ms/step - loss: 9.9057e-04\n",
            "Epoch 138/200\n",
            "86/86 [==============================] - 5s 56ms/step - loss: 9.9534e-04\n",
            "Epoch 139/200\n",
            "86/86 [==============================] - 5s 56ms/step - loss: 9.8355e-04\n",
            "Epoch 140/200\n",
            "86/86 [==============================] - 5s 56ms/step - loss: 0.0011\n",
            "Epoch 141/200\n",
            "86/86 [==============================] - 5s 56ms/step - loss: 0.0010\n",
            "Epoch 142/200\n",
            "86/86 [==============================] - 5s 56ms/step - loss: 0.0010\n",
            "Epoch 143/200\n",
            "86/86 [==============================] - 5s 57ms/step - loss: 9.9369e-04\n",
            "Epoch 144/200\n",
            "86/86 [==============================] - 5s 56ms/step - loss: 0.0011\n",
            "Epoch 145/200\n",
            "86/86 [==============================] - 5s 56ms/step - loss: 9.8335e-04\n",
            "Epoch 146/200\n",
            "86/86 [==============================] - 5s 56ms/step - loss: 9.9120e-04\n",
            "Epoch 147/200\n",
            "86/86 [==============================] - 5s 55ms/step - loss: 9.7971e-04\n",
            "Epoch 148/200\n",
            "86/86 [==============================] - 5s 55ms/step - loss: 0.0010\n",
            "Epoch 149/200\n",
            "86/86 [==============================] - 5s 56ms/step - loss: 9.7180e-04\n",
            "Epoch 150/200\n",
            "86/86 [==============================] - 5s 55ms/step - loss: 9.6131e-04\n",
            "Epoch 151/200\n",
            "86/86 [==============================] - 5s 56ms/step - loss: 9.5626e-04\n",
            "Epoch 152/200\n",
            "86/86 [==============================] - 5s 56ms/step - loss: 9.3587e-04\n",
            "Epoch 153/200\n",
            "86/86 [==============================] - 5s 57ms/step - loss: 9.4895e-04\n",
            "Epoch 154/200\n",
            "86/86 [==============================] - 5s 56ms/step - loss: 9.2283e-04\n",
            "Epoch 155/200\n",
            "86/86 [==============================] - 5s 57ms/step - loss: 9.1088e-04\n",
            "Epoch 156/200\n",
            "86/86 [==============================] - 5s 57ms/step - loss: 9.7812e-04\n",
            "Epoch 157/200\n",
            "86/86 [==============================] - 5s 58ms/step - loss: 9.2962e-04\n",
            "Epoch 158/200\n",
            "86/86 [==============================] - 5s 58ms/step - loss: 0.0011\n",
            "Epoch 159/200\n",
            "86/86 [==============================] - 5s 58ms/step - loss: 9.2390e-04\n",
            "Epoch 160/200\n",
            "86/86 [==============================] - 5s 57ms/step - loss: 9.2334e-04\n",
            "Epoch 161/200\n",
            "86/86 [==============================] - 5s 57ms/step - loss: 9.6737e-04\n",
            "Epoch 162/200\n",
            "86/86 [==============================] - 5s 56ms/step - loss: 9.5125e-04\n",
            "Epoch 163/200\n",
            "86/86 [==============================] - 5s 56ms/step - loss: 8.8825e-04\n",
            "Epoch 164/200\n",
            "86/86 [==============================] - 5s 57ms/step - loss: 9.0314e-04\n",
            "Epoch 165/200\n",
            "86/86 [==============================] - 5s 56ms/step - loss: 8.6878e-04\n",
            "Epoch 166/200\n",
            "86/86 [==============================] - 5s 56ms/step - loss: 8.6011e-04\n",
            "Epoch 167/200\n",
            "86/86 [==============================] - 5s 56ms/step - loss: 9.7192e-04\n",
            "Epoch 168/200\n",
            "86/86 [==============================] - 5s 57ms/step - loss: 8.8508e-04\n",
            "Epoch 169/200\n",
            "86/86 [==============================] - 5s 56ms/step - loss: 8.5472e-04\n",
            "Epoch 170/200\n",
            "86/86 [==============================] - 5s 56ms/step - loss: 9.8415e-04\n",
            "Epoch 171/200\n",
            "86/86 [==============================] - 5s 56ms/step - loss: 8.5898e-04\n",
            "Epoch 172/200\n",
            "86/86 [==============================] - 5s 57ms/step - loss: 8.7421e-04\n",
            "Epoch 173/200\n",
            "86/86 [==============================] - 5s 56ms/step - loss: 8.6362e-04\n",
            "Epoch 174/200\n",
            "86/86 [==============================] - 5s 57ms/step - loss: 8.5116e-04\n",
            "Epoch 175/200\n",
            "86/86 [==============================] - 5s 56ms/step - loss: 8.5742e-04\n",
            "Epoch 176/200\n",
            "86/86 [==============================] - 5s 57ms/step - loss: 8.4414e-04\n",
            "Epoch 177/200\n",
            "86/86 [==============================] - 5s 56ms/step - loss: 8.4502e-04\n",
            "Epoch 178/200\n",
            "86/86 [==============================] - 5s 57ms/step - loss: 8.5862e-04\n",
            "Epoch 179/200\n",
            "86/86 [==============================] - 5s 56ms/step - loss: 8.6988e-04\n",
            "Epoch 180/200\n",
            "86/86 [==============================] - 5s 56ms/step - loss: 8.5069e-04\n",
            "Epoch 181/200\n",
            "86/86 [==============================] - 5s 56ms/step - loss: 9.2595e-04\n",
            "Epoch 182/200\n",
            "86/86 [==============================] - 5s 56ms/step - loss: 8.3875e-04\n",
            "Epoch 183/200\n",
            "86/86 [==============================] - 5s 57ms/step - loss: 0.0010\n",
            "Epoch 184/200\n",
            "86/86 [==============================] - 5s 56ms/step - loss: 0.0012\n",
            "Epoch 185/200\n",
            "86/86 [==============================] - 5s 57ms/step - loss: 0.0010\n",
            "Epoch 186/200\n",
            "86/86 [==============================] - 5s 56ms/step - loss: 0.0010\n",
            "Epoch 187/200\n",
            "86/86 [==============================] - 5s 56ms/step - loss: 9.9710e-04\n",
            "Epoch 188/200\n",
            "86/86 [==============================] - 5s 56ms/step - loss: 9.9018e-04\n",
            "Epoch 189/200\n",
            "86/86 [==============================] - 5s 57ms/step - loss: 9.7626e-04\n",
            "Epoch 190/200\n",
            "86/86 [==============================] - 5s 56ms/step - loss: 0.0010\n",
            "Epoch 191/200\n",
            "86/86 [==============================] - 5s 57ms/step - loss: 9.9159e-04\n",
            "Epoch 192/200\n",
            "86/86 [==============================] - 5s 56ms/step - loss: 9.6889e-04\n",
            "Epoch 193/200\n",
            "86/86 [==============================] - 5s 56ms/step - loss: 9.6110e-04\n",
            "Epoch 194/200\n",
            "86/86 [==============================] - 5s 56ms/step - loss: 9.6447e-04\n",
            "Epoch 195/200\n",
            "86/86 [==============================] - 5s 57ms/step - loss: 9.5595e-04\n",
            "Epoch 196/200\n",
            "86/86 [==============================] - 5s 56ms/step - loss: 9.6030e-04\n",
            "Epoch 197/200\n",
            "86/86 [==============================] - 5s 56ms/step - loss: 9.6527e-04\n",
            "Epoch 198/200\n",
            "86/86 [==============================] - 5s 57ms/step - loss: 9.6396e-04\n",
            "Epoch 199/200\n",
            "86/86 [==============================] - 5s 56ms/step - loss: 9.5153e-04\n",
            "Epoch 200/200\n",
            "86/86 [==============================] - 5s 57ms/step - loss: 9.5351e-04\n"
          ]
        }
      ],
      "source": [
        "# Train LSTM model\n",
        "lstm_trained = lstm_model.fit(trainX, trainY, shuffle=True, epochs=epochs)\n",
        "# Train GRU model\n",
        "gru_trained = gru_model.fit(trainX, trainY, shuffle=True, epochs=epochs)"
      ]
    },
    {
      "cell_type": "code",
      "execution_count": 168,
      "metadata": {
        "colab": {
          "base_uri": "https://localhost:8080/"
        },
        "id": "H8OyooiKm-ab",
        "outputId": "3109340f-f6c3-4f98-b8db-6b15e082e54e"
      },
      "outputs": [
        {
          "output_type": "stream",
          "name": "stdout",
          "text": [
            "(232, 20)\n",
            "(232, 20)\n",
            "(232, 20)\n",
            "(232, 20)\n",
            "(232, 20)\n",
            "(232, 20)\n",
            "(232, 20)\n",
            "(232, 20)\n",
            "(232, 20)\n",
            "(232, 20)\n"
          ]
        }
      ],
      "source": [
        "#Testing\n",
        "s=(10,6) \n",
        "s=np.ones(s)  #for the results\n",
        "\n",
        "for j in range(0,10):\n",
        "  scaled_data = DATAX[j, :] #Changes the index of time_series\n",
        "  scaled_data = np.reshape(scaled_data, (len(scaled_data),1)) \n",
        "  scaled_data.shape\n",
        "  _ , _ , testX, testY, _ = data_preparation(window, scaled_data, N, f)\n",
        "  y_pred_lstm = lstm_model.predict(testX)\n",
        "  y_pred_gru = gru_model.predict(testX)\n",
        "  y_baseline = baselinef(testX,f) \n",
        "  testY = np.reshape(testY, (testY.shape[0],testY.shape[1]))\n",
        "  print(testY.shape)\n",
        "  s[j,0] = np.sqrt(mean_squared_error(testY, y_pred_lstm))\n",
        "  s[j,1] = np.sqrt(mean_squared_error(testY, y_pred_gru))\n",
        "  s[j,2] = np.sqrt(mean_squared_error(testY, y_baseline))\n",
        "  s[j,0+3] = mda(testY, y_pred_lstm)\n",
        "  s[j,1+3] = mda(testY, y_pred_gru)\n",
        "  s[j,2+3] = mda(testY, y_baseline)"
      ]
    },
    {
      "cell_type": "code",
      "execution_count": 169,
      "metadata": {
        "colab": {
          "base_uri": "https://localhost:8080/"
        },
        "id": "lIkEbyAtK4BT",
        "outputId": "0abf6a35-066b-4c60-cf14-005c2964aadc"
      },
      "outputs": [
        {
          "output_type": "stream",
          "name": "stdout",
          "text": [
            "Mean values\n"
          ]
        },
        {
          "output_type": "execute_result",
          "data": {
            "text/plain": [
              "array([0.05436976, 0.0501351 , 0.04279911, 0.50049784, 0.50045455,\n",
              "       0.49690476])"
            ]
          },
          "metadata": {},
          "execution_count": 169
        }
      ],
      "source": [
        "print('Mean values')\n",
        "np.mean(s, axis=0)"
      ]
    },
    {
      "cell_type": "code",
      "execution_count": 170,
      "metadata": {
        "colab": {
          "base_uri": "https://localhost:8080/"
        },
        "id": "ZLu7_ZRHK8-7",
        "outputId": "a0271685-bfc4-415c-a00b-070eeec3c352"
      },
      "outputs": [
        {
          "output_type": "stream",
          "name": "stdout",
          "text": [
            "Standard Deviation\n"
          ]
        },
        {
          "output_type": "execute_result",
          "data": {
            "text/plain": [
              "array([0.00938878, 0.00645525, 0.01130637, 0.00711331, 0.0087052 ,\n",
              "       0.00765209])"
            ]
          },
          "metadata": {},
          "execution_count": 170
        }
      ],
      "source": [
        "print('Standard Deviation')\n",
        "np.std(s, axis=0)"
      ]
    },
    {
      "cell_type": "code",
      "source": [
        "#Statistical tests\n",
        "statisticaltests(s)"
      ],
      "metadata": {
        "colab": {
          "base_uri": "https://localhost:8080/"
        },
        "id": "GD9Nbves8XyP",
        "outputId": "4fd646c7-77b9-4d6e-ff38-957008715d08"
      },
      "execution_count": 171,
      "outputs": [
        {
          "output_type": "stream",
          "name": "stdout",
          "text": [
            "LSTM and Baseline (RMSE)\n",
            "U=76.0. p = 0.053902557169387175\n",
            "GRU and Baseline (RMSE)\n",
            "U=67.0. p = 0.21229383619233155\n",
            "LSTM and GRU (RMSE)\n",
            "U=66.0. p = 0.24132159301718004\n",
            "LSTM and Baseline (DA)\n",
            "U=61.0. p = 0.42718148600680117\n",
            "GRU and Baseline (DA)\n",
            "U=63.0. p = 0.344522779098129\n",
            "LSTM and GRU (DA)\n",
            "U=49.5. p = 1.0\n"
          ]
        }
      ]
    },
    {
      "cell_type": "code",
      "source": [
        "#use this code to save the models\n",
        "if experiment == 1:\n",
        "  ex = 'B'\n",
        "else:\n",
        "  ex = 'A'\n",
        "gru_model.save(thepath+'/GRU_'+str(ex)+str(f)) #Saves GRU\n",
        "lstm_model.save(thepath+'/LSTM_'+str(ex)+str(f)) #Saves LSTM"
      ],
      "metadata": {
        "colab": {
          "base_uri": "https://localhost:8080/"
        },
        "id": "zsbpzEq-0HG6",
        "outputId": "416ecea8-e918-4033-e98a-0581b939db4b"
      },
      "execution_count": 172,
      "outputs": [
        {
          "output_type": "stream",
          "name": "stderr",
          "text": [
            "WARNING:absl:Found untraced functions such as gru_cell_3_layer_call_fn, gru_cell_3_layer_call_and_return_conditional_losses while saving (showing 2 of 2). These functions will not be directly callable after loading.\n"
          ]
        },
        {
          "output_type": "stream",
          "name": "stdout",
          "text": [
            "INFO:tensorflow:Assets written to: sample_data/GRU_B20/assets\n"
          ]
        },
        {
          "output_type": "stream",
          "name": "stderr",
          "text": [
            "INFO:tensorflow:Assets written to: sample_data/GRU_B20/assets\n",
            "WARNING:absl:<keras.layers.recurrent.GRUCell object at 0x7feb1d2cfd90> has the same name 'GRUCell' as a built-in Keras object. Consider renaming <class 'keras.layers.recurrent.GRUCell'> to avoid naming conflicts when loading with `tf.keras.models.load_model`. If renaming is not possible, pass the object in the `custom_objects` parameter of the load function.\n",
            "WARNING:absl:Found untraced functions such as lstm_cell_3_layer_call_fn, lstm_cell_3_layer_call_and_return_conditional_losses while saving (showing 2 of 2). These functions will not be directly callable after loading.\n"
          ]
        },
        {
          "output_type": "stream",
          "name": "stdout",
          "text": [
            "INFO:tensorflow:Assets written to: sample_data/LSTM_B20/assets\n"
          ]
        },
        {
          "output_type": "stream",
          "name": "stderr",
          "text": [
            "INFO:tensorflow:Assets written to: sample_data/LSTM_B20/assets\n",
            "WARNING:absl:<keras.layers.recurrent.LSTMCell object at 0x7feb15d629d0> has the same name 'LSTMCell' as a built-in Keras object. Consider renaming <class 'keras.layers.recurrent.LSTMCell'> to avoid naming conflicts when loading with `tf.keras.models.load_model`. If renaming is not possible, pass the object in the `custom_objects` parameter of the load function.\n"
          ]
        }
      ]
    },
    {
      "cell_type": "code",
      "source": [
        "#Rescale for visual inspection\n",
        "testY = rescaleit(testY,mima,j)\n",
        "y_pred_lstm = rescaleit(y_pred_lstm,mima,j)\n",
        "y_pred_gru = rescaleit(y_pred_gru,mima,j)\n",
        "y_baseline = rescaleit(y_baseline,mima,j)"
      ],
      "metadata": {
        "id": "ork6jRW8tSdf"
      },
      "execution_count": 173,
      "outputs": []
    },
    {
      "cell_type": "code",
      "execution_count": 174,
      "metadata": {
        "id": "cV0J2OjzBf-7"
      },
      "outputs": [],
      "source": [
        "if f == 1: \n",
        "  plt.plot(testY[0:100], label = 'Actual')\n",
        "  plt.plot(y_baseline[0:100], label = 'Baseline prediction')\n",
        "  plt.plot(y_pred_lstm[0:100], label = 'LSTM prediction')\n",
        "  plt.plot(y_pred_gru[0:100], label = 'GRU prediction')\n",
        "  \n",
        "  plt.legend(loc='upper center', bbox_to_anchor=(0.5, 1.1),\n",
        "          fancybox=True, shadow=True, ncol=5)\n",
        "  #plt.legend()\n",
        "  plt.xlabel(\"Days\")\n",
        "  if experiment ==1:\n",
        "    plt.ylabel(\"Closing Price\")\n",
        "  else:\n",
        "    plt.ylabel(\"Value\")"
      ]
    },
    {
      "cell_type": "code",
      "execution_count": 175,
      "metadata": {
        "colab": {
          "base_uri": "https://localhost:8080/",
          "height": 279
        },
        "id": "9JrOZlZlPn4X",
        "outputId": "75cf22e5-4afa-4dac-b015-eb9fbb60aeb5"
      },
      "outputs": [
        {
          "output_type": "display_data",
          "data": {
            "text/plain": [
              "<Figure size 432x288 with 1 Axes>"
            ],
            "image/png": "[encoded data removed]"
          },
          "metadata": {
            "needs_background": "light"
          }
        }
      ],
      "source": [
        "g = 230 #Chooses one of the tests samples\n",
        "if f == 20:\n",
        "  plt.plot(testY[g,:], label = 'Actual')\n",
        "  plt.plot(y_baseline[g,:], label = 'Baseline prediction')\n",
        "  plt.plot(y_pred_lstm[g,:], label = 'LSTM prediction')\n",
        "  plt.plot(y_pred_gru[g,:], label = 'GRU prediction')\n",
        "  plt.legend()\n",
        "  plt.xlabel('Days')\n",
        "  days = np.arange(testY.shape[1]+1)\n",
        "  new_list = range(math.floor(min(days)), math.ceil(max(days))+1)\n",
        "  plt.xticks(new_list)\n",
        "  plt.ylabel('Value')"
      ]
    },
    {
      "cell_type": "code",
      "execution_count": 176,
      "metadata": {
        "id": "hqLCAFNF1dm5",
        "colab": {
          "base_uri": "https://localhost:8080/",
          "height": 297
        },
        "outputId": "6c06b1f4-c036-4497-893b-f9e8d43d7936"
      },
      "outputs": [
        {
          "output_type": "execute_result",
          "data": {
            "text/plain": [
              "Text(0, 0.5, 'MSE Loss')"
            ]
          },
          "metadata": {},
          "execution_count": 176
        },
        {
          "output_type": "display_data",
          "data": {
            "text/plain": [
              "<Figure size 432x288 with 1 Axes>"
            ],
            "image/png": "[encoded data removed]"
          },
          "metadata": {
            "needs_background": "light"
          }
        }
      ],
      "source": [
        "#\"\"\"Plot loss function and Predictions\"\"\"\n",
        "plt.plot(lstm_trained.history['loss'], label = 'LSTM')\n",
        "plt.plot(gru_trained.history['loss'], label = 'GRU los')\n",
        "plt.legend()\n",
        "plt.xlabel('Epochs')\n",
        "plt.ylabel('MSE Loss')"
      ]
    }
  ],
  "metadata": {
    "colab": {
      "collapsed_sections": [],
      "name": "RNN_multi.ipynb",
      "provenance": []
    },
    "kernelspec": {
      "display_name": "Python 3",
      "name": "python3"
    },
    "language_info": {
      "name": "python"
    }
  },
  "nbformat": 4,
  "nbformat_minor": 0
}